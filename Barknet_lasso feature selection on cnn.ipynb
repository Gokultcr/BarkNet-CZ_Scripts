{
 "cells": [
  {
   "cell_type": "markdown",
   "id": "3764e7e3-3d9b-419f-9a69-a027952d2cd8",
   "metadata": {},
   "source": [
    "# Lasso Feature selection on CNN features"
   ]
  },
  {
   "cell_type": "markdown",
   "id": "5c0699f4-0c39-4b67-bbad-54adec9d7396",
   "metadata": {},
   "source": [
    "### import necessary libraries"
   ]
  },
  {
   "cell_type": "code",
   "execution_count": null,
   "id": "a0beaefb",
   "metadata": {},
   "outputs": [],
   "source": [
    "import cv2\n",
    "from skimage.feature import greycomatrix, greycoprops\n",
    "from sklearn.model_selection import train_test_split\n",
    "from sklearn.ensemble import BaggingClassifier\n",
    "from sklearn.svm import SVC\n",
    "from sklearn.ensemble import RandomForestClassifier\n",
    "from sklearn.tree import DecisionTreeClassifier\n",
    "from sklearn.neural_network import MLPClassifier\n",
    "from sklearn.metrics import accuracy_score\n",
    "from sklearn.svm import SVC\n",
    "\n",
    "import os\n",
    "import numpy as np\n",
    "from tensorflow.keras.preprocessing.image import img_to_array\n",
    "from skimage.feature import greycomatrix, greycoprops\n",
    "from sklearn.metrics import accuracy_score, precision_score, recall_score, f1_score\n",
    "from tensorflow.keras.preprocessing.image import img_to_array\n",
    "from skimage.io import imread\n",
    "from skimage.color import rgb2gray\n",
    "import matplotlib.pyplot as plt\n",
    "from sklearn.ensemble import VotingClassifier\n",
    "\n",
    "from tensorflow.keras.models import Sequential\n",
    "from tensorflow.keras.layers import BatchNormalization, Conv2D, Dense\n",
    "from tensorflow.keras.layers import MaxPooling2D, Activation, Flatten, Dropout\n",
    "from keras import optimizers\n",
    "from tensorflow.keras import datasets, layers, models\n",
    "from keras.wrappers.scikit_learn import KerasClassifier\n",
    "from tensorflow.keras.models import Model\n",
    "\n",
    "from sklearn.linear_model import Lasso\n",
    "from sklearn.feature_selection import SelectFromModel\n",
    "\n",
    "from sklearn.metrics import classification_report\n",
    "\n",
    "from sklearn.metrics import confusion_matrix\n",
    "\n",
    "import seaborn as sns"
   ]
  },
  {
   "cell_type": "markdown",
   "id": "c24126a5-8343-4bb6-bfca-7fbad6aba0ae",
   "metadata": {},
   "source": [
    "### Define dataset path and load for feature extraction"
   ]
  },
  {
   "cell_type": "code",
   "execution_count": null,
   "id": "ed68959f",
   "metadata": {},
   "outputs": [],
   "source": [
    "\n",
    "# set image path and categories\n",
    "data_path = \"D:/BarkNet Europe 1.0/\"\n",
    "categories = os.listdir(data_path)\n",
    "\n",
    "# initialize lists for features and labels\n",
    "features_cnn = []\n",
    "features_glcm = []\n",
    "labels = []\n",
    "\n",
    "# load images and extract features\n",
    "for category in categories:\n",
    "    category_path = os.path.join(data_path, category)\n",
    "    for img_name in os.listdir(category_path):\n",
    "        img_path = os.path.join(category_path, img_name)\n",
    "        img = cv2.imread(img_path)\n",
    "        img = cv2.resize(img, (250, 250))\n",
    "        img_cnn = img_to_array(img)\n",
    "        img_glcm = cv2.cvtColor(img, cv2.COLOR_BGR2GRAY)\n",
    "        features_cnn.append(img_cnn)\n",
    "        features_glcm.append(img_glcm)\n",
    "        labels.append(category)\n",
    "\n"
   ]
  },
  {
   "cell_type": "code",
   "execution_count": null,
   "id": "4d55a228",
   "metadata": {},
   "outputs": [],
   "source": [
    "# convert features and labels to numpy arrays\n",
    "features_cnn = np.array(features_cnn)\n",
    "labels = np.array(labels)\n",
    "\n",
    "\n"
   ]
  },
  {
   "cell_type": "markdown",
   "id": "02b3db28-7bbe-4546-afac-0abcbc4cd30d",
   "metadata": {},
   "source": [
    "### CNN feature extraction model"
   ]
  },
  {
   "cell_type": "code",
   "execution_count": null,
   "id": "116cffe0",
   "metadata": {},
   "outputs": [],
   "source": [
    "# create CNN model for feature extraction\n",
    "model_cnn = Sequential()\n",
    "model_cnn.add(Conv2D(32, (3, 3), activation='relu', input_shape=(250, 250, 3)))\n",
    "model_cnn.add(MaxPooling2D((2, 2)))\n",
    "model_cnn.add(Conv2D(64, (3, 3), activation='relu'))\n",
    "model_cnn.add(MaxPooling2D((2, 2)))\n",
    "model_cnn.add(Conv2D(64, (3, 3), activation='relu'))\n",
    "model_cnn.add(MaxPooling2D((2, 2)))\n",
    "model_cnn.add(Conv2D(128, (3, 3), activation='relu'))\n",
    "model_cnn.add(MaxPooling2D((2, 2)))\n",
    "model_cnn.add(Conv2D(512, (3, 3), activation='relu'))\n",
    "model_cnn.add(MaxPooling2D((2, 2)))\n",
    "model_cnn.add(Flatten())\n",
    "\n",
    "\n",
    "# extract CNN features for all images\n",
    "features_cnn = model_cnn.predict(features_cnn)\n",
    "# Compile the model\n",
    "model_cnn.compile(optimizer='adam', loss='categorical_crossentropy', metrics=['accuracy'])\n",
    "\n"
   ]
  },
  {
   "cell_type": "markdown",
   "id": "a8bb37e0-79e5-451e-82a6-5fcf72775a09",
   "metadata": {},
   "source": [
    "### Ploting feature maps"
   ]
  },
  {
   "cell_type": "code",
   "execution_count": null,
   "id": "0ea8581f",
   "metadata": {},
   "outputs": [],
   "source": [
    "import numpy as np\n",
    "import matplotlib.pyplot as plt\n",
    "from tensorflow.keras.preprocessing.image import load_img, img_to_array\n",
    "from tensorflow.keras.models import Model\n",
    "\n",
    "# Load an example image\n",
    "img_path = 'D:/BarkNet Europe 1.0/Abies Alba/Abies Alba001.jpg'\n",
    "img = load_img(img_path, target_size=(250, 250))\n",
    "img_array = img_to_array(img)\n",
    "img_array = np.expand_dims(img_array, axis=0)\n",
    "\n",
    "# Create a model that outputs the feature maps for each layer\n",
    "layer_outputs = [layer.output for layer in model_cnn.layers[:6]]\n",
    "activation_model = Model(inputs=model_cnn.input, outputs=layer_outputs)\n",
    "\n",
    "# Get the activations for the example image\n",
    "activations = activation_model.predict(img_array)\n",
    "\n",
    "# Plot the feature maps using a heatmap\n",
    "fig, axs = plt.subplots(nrows=2, ncols=3, figsize=(10, 7))\n",
    "for i, activation in enumerate(activations):\n",
    "    row = i // 3\n",
    "    col = i % 3\n",
    "    axs[row, col].imshow(activation[0, :, :, 0], cmap='viridis')\n",
    "    axs[row, col].axis('off')\n",
    "    axs[row, col].set_title(f'Layer {i+1}')\n",
    "plt.show()\n"
   ]
  },
  {
   "cell_type": "markdown",
   "id": "7a5149af-b4e4-416e-a37a-4cece043f3fa",
   "metadata": {},
   "source": [
    "### Label encoding and feature selection using lasso"
   ]
  },
  {
   "cell_type": "code",
   "execution_count": null,
   "id": "cb90cbe0",
   "metadata": {},
   "outputs": [],
   "source": [
    "from sklearn.preprocessing import LabelEncoder\n",
    "\n",
    "# encode labels into numerical values\n",
    "le = LabelEncoder()\n",
    "labels_encoded = le.fit_transform(labels)\n",
    "\n",
    "# apply Lasso feature selection on the CNN features\n",
    "lasso = Lasso(alpha=0.01)\n",
    "lasso.fit(features_cnn, labels_encoded)\n",
    "selector = SelectFromModel(lasso, prefit=True)\n",
    "X_cnn_selected = selector.transform(features_cnn)\n"
   ]
  },
  {
   "cell_type": "markdown",
   "id": "94ef82d6-3fa7-435f-be32-501d17433f01",
   "metadata": {},
   "source": [
    "### Ploting feature importance scores"
   ]
  },
  {
   "cell_type": "code",
   "execution_count": null,
   "id": "a6f028f9",
   "metadata": {},
   "outputs": [],
   "source": [
    "\n",
    "\n",
    "# Assuming lasso and selector are already defined and trained\n",
    "# Get the importance scores of the selected features\n",
    "importance_scores = np.abs(lasso.coef_)\n",
    "selected_indices = selector.get_support(indices=True)\n",
    "\n",
    "# Create a bar plot of the importance scores\n",
    "plt.figure(figsize=(15, 8))\n",
    "plt.bar(range(len(selected_indices)), importance_scores[selected_indices])\n",
    "\n",
    "# Set x-ticks to be at regular intervals instead of every index\n",
    "interval = max(1, len(selected_indices) // 20)  # Adjust the interval as needed\n",
    "plt.xticks(range(0, len(selected_indices), interval), selected_indices[::interval], rotation=90)\n",
    "\n",
    "plt.xlabel('Selected Feature Index')\n",
    "plt.ylabel('Importance Score')\n",
    "\n",
    "# Set y-axis range to accommodate possible importance score values\n",
    "plt.ylim(0, np.max(importance_scores) * 1.1)\n",
    "\n",
    "plt.title('Importance Scores of Selected Features')\n",
    "plt.tight_layout()  # Adjust layout to make room for rotated x-axis labels\n",
    "plt.savefig('importance_scores_improved.png', dpi=300)\n",
    "plt.show()\n"
   ]
  },
  {
   "cell_type": "markdown",
   "id": "2a536003-5c87-4d33-928e-22da95c1dd33",
   "metadata": {},
   "source": [
    "### Training-testing splits"
   ]
  },
  {
   "cell_type": "code",
   "execution_count": null,
   "id": "966cf025",
   "metadata": {},
   "outputs": [],
   "source": [
    "# split features and labels into training and testing sets\n",
    "x_train, x_test, y_train, y_test = train_test_split(X_cnn_selected, labels, test_size=0.2, random_state=42)\n",
    "\n"
   ]
  },
  {
   "cell_type": "markdown",
   "id": "5d3fa5b2-391b-40be-a8cf-71995fa3f0aa",
   "metadata": {},
   "source": [
    "### Defining SVM model"
   ]
  },
  {
   "cell_type": "code",
   "execution_count": null,
   "id": "56b6d3be",
   "metadata": {},
   "outputs": [],
   "source": [
    "model = SVC(kernel='linear')\n",
    "model.fit(x_train, y_train)\n",
    "# plot the coefficients\n",
    "plt.plot(model.coef_)\n",
    "plt.xlabel('Feature index')\n",
    "plt.ylabel('Coefficient')\n",
    "plt.show()"
   ]
  },
  {
   "cell_type": "code",
   "execution_count": null,
   "id": "0c071d72",
   "metadata": {},
   "outputs": [],
   "source": [
    "# make predictions on the test set\n",
    "\n",
    "y_train_pred = model.predict(x_train)\n",
    "y_pred = model.predict(x_test)"
   ]
  },
  {
   "cell_type": "markdown",
   "id": "2594f312-e93c-4928-b03e-897874cb4218",
   "metadata": {},
   "source": [
    "### Training accuracy"
   ]
  },
  {
   "cell_type": "code",
   "execution_count": null,
   "id": "50895e7d",
   "metadata": {},
   "outputs": [],
   "source": [
    "train_accuracy = accuracy_score(y_train, y_train_pred)\n",
    "print(' Train Accuracy:', train_accuracy)"
   ]
  },
  {
   "cell_type": "markdown",
   "id": "8d5b644f-ab4e-4042-ae14-880d1680d84f",
   "metadata": {},
   "source": [
    "### Test accuracy"
   ]
  },
  {
   "cell_type": "code",
   "execution_count": null,
   "id": "9bf21f1d",
   "metadata": {},
   "outputs": [],
   "source": [
    "# compute the accuracy of the model\n",
    "accuracy = accuracy_score(y_test, y_pred)\n",
    "print('Test Accuracy:', accuracy)"
   ]
  },
  {
   "cell_type": "markdown",
   "id": "77ea08bf-b364-4cbb-8a80-ffd6a3fdb68a",
   "metadata": {},
   "source": [
    "### Classification report "
   ]
  },
  {
   "cell_type": "code",
   "execution_count": null,
   "id": "f36d63b0",
   "metadata": {},
   "outputs": [],
   "source": [
    "y_pred_nb = model.predict(x_test)\n",
    "print (classification_report(y_test, y_pred_nb))"
   ]
  },
  {
   "cell_type": "markdown",
   "id": "c53b3667-c4e5-4200-8745-0490d36bfead",
   "metadata": {},
   "source": [
    "### Confusion Matrix"
   ]
  },
  {
   "cell_type": "code",
   "execution_count": null,
   "id": "b0a0d44b",
   "metadata": {},
   "outputs": [],
   "source": [
    "matrix= confusion_matrix(y_test, y_pred_nb)\n",
    "\n",
    "ax=sns.heatmap(matrix,annot = True, fmt = \"d\")\n",
    "\n",
    "\n",
    "# Set title and axis labels\n",
    "ax.set_title('Confusion Matrix')\n",
    "ax.set_xlabel('Predicted Label')\n",
    "ax.set_ylabel('True Label')\n",
    "\n",
    "# Show the plot\n",
    "plt.show()"
   ]
  }
 ],
 "metadata": {
  "kernelspec": {
   "display_name": "Python 3 (ipykernel)",
   "language": "python",
   "name": "python3"
  },
  "language_info": {
   "codemirror_mode": {
    "name": "ipython",
    "version": 3
   },
   "file_extension": ".py",
   "mimetype": "text/x-python",
   "name": "python",
   "nbconvert_exporter": "python",
   "pygments_lexer": "ipython3",
   "version": "3.11.9"
  }
 },
 "nbformat": 4,
 "nbformat_minor": 5
}
